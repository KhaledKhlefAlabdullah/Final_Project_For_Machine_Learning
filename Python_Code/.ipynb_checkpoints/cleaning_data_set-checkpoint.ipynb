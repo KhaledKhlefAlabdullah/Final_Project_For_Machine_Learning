{
 "cells": [
  {
   "cell_type": "code",
   "execution_count": 893,
   "id": "e1429fa4-5bcc-45f4-becb-d09911888a7d",
   "metadata": {},
   "outputs": [],
   "source": [
    "# import pandas library\n",
    "import pandas as pd "
   ]
  },
  {
   "cell_type": "code",
   "execution_count": 894,
   "id": "24c3cad7-4738-49cc-9977-137dbe9630b9",
   "metadata": {},
   "outputs": [],
   "source": [
    "# Read the data set excel file \n",
    "data = pd.read_excel('data_set_befor_clining.xlsx')"
   ]
  },
  {
   "cell_type": "code",
   "execution_count": 895,
   "id": "1538ca8e-f1eb-4bab-aa8b-758dfdedcc9f",
   "metadata": {},
   "outputs": [],
   "source": [
    "#data.columns\n"
   ]
  },
  {
   "cell_type": "code",
   "execution_count": 896,
   "id": "8028e3cc-1060-4bfc-811b-7ea0de505bec",
   "metadata": {},
   "outputs": [],
   "source": [
    "new_column_names = {\n",
    "    'طابع زمني': 'Timestamp',\n",
    "    'نوع الحاسب ': 'ComputerType',\n",
    "    'COR I ': 'Core_i',\n",
    "    'الجيل ': 'Gen',\n",
    "    'نوع الهارد الاول': 'FHDType',\n",
    "    'حجم الهارد الاول': 'FHDSize',\n",
    "    'نوع الهارد الثاني إن وجد ': 'SHDType',\n",
    "    'حجم الهارد الثاني إن وجد': 'SHDSize',\n",
    "    'حجم الرام': 'RAMSize',\n",
    "    'فترة عمل البطارية': 'BatLife',\n",
    "    'حجم الشاشة ': 'ScSize',\n",
    "    'نوع الشاشة': 'ScReso',\n",
    "    'نوع كرت الشاشة ': 'GPUType',\n",
    "    'حالة الابتوب': 'LaptopState',\n",
    "    'السعر بالدولار ': 'Price',\n",
    "    'الاسم ': 'Name'\n",
    "}\n",
    "\n",
    "data.rename(columns=new_column_names, inplace=True)"
   ]
  },
  {
   "cell_type": "code",
   "execution_count": 897,
   "id": "7d553d56-1da0-49de-8448-27eb81fa8fa7",
   "metadata": {},
   "outputs": [],
   "source": [
    "#data.columns"
   ]
  },
  {
   "cell_type": "code",
   "execution_count": 898,
   "id": "f5fc1b38-a98c-4c22-847b-fc91ac46c8ea",
   "metadata": {},
   "outputs": [],
   "source": [
    "data.drop(columns=['Timestamp','ComputerType','Name','Unnamed: 16', 'Unnamed: 17',\n",
    "       'Unnamed: 18'],inplace=True)"
   ]
  },
  {
   "cell_type": "code",
   "execution_count": 899,
   "id": "6f01ff27-3680-4866-b526-8c1b684be6e2",
   "metadata": {},
   "outputs": [],
   "source": [
    "#data"
   ]
  },
  {
   "cell_type": "code",
   "execution_count": 900,
   "id": "722d95ff-d6bd-4cae-bdf2-9fecabf8f61d",
   "metadata": {},
   "outputs": [],
   "source": [
    "data['FHDType'] = data['FHDType'].replace('HDD',0.5)\n",
    "data['FHDType'] = data['FHDType'].replace('SSD',1)"
   ]
  },
  {
   "cell_type": "code",
   "execution_count": 901,
   "id": "39b60fc5-61f8-4104-b3e1-56a74aa3aa39",
   "metadata": {},
   "outputs": [],
   "source": [
    "data['SHDType'] = data['SHDType'].replace('لا يوجد','none')\n",
    "data['SHDType'] = data['SHDType'].replace('none',0)\n",
    "data['SHDType'] = data['SHDType'].replace('HDD',0.5)\n",
    "data['SHDType'] = data['SHDType'].replace('SSD',1)"
   ]
  },
  {
   "cell_type": "code",
   "execution_count": 902,
   "id": "29b64aaf-0700-4550-847f-55a319543779",
   "metadata": {},
   "outputs": [],
   "source": [
    "data['SHDSize'] = data['SHDSize'].replace('لا يوجد','none')\n",
    "data['SHDSize'] = data['SHDSize'].replace('none',0)"
   ]
  },
  {
   "cell_type": "code",
   "execution_count": 903,
   "id": "7851ba0c-cd9b-4e3e-9a78-907cb799ea50",
   "metadata": {},
   "outputs": [],
   "source": [
    "relaced_values = {'اوبن بوكس':'ObenBox','جديد':'New','مستعمل':'Old'}\n",
    "data['LaptopState'] = data['LaptopState'].replace(relaced_values)"
   ]
  },
  {
   "cell_type": "code",
   "execution_count": 904,
   "id": "d35d3055-2bc3-49c1-aa5d-522ccf138bdc",
   "metadata": {},
   "outputs": [],
   "source": [
    "data['GPUType'] = data['GPUType'].replace('مدمج','Inner')"
   ]
  },
  {
   "cell_type": "code",
   "execution_count": 905,
   "id": "5d3f3262-9b0c-4301-b1e2-6db62399c182",
   "metadata": {},
   "outputs": [],
   "source": [
    "data['FHDSize'] = data['FHDSize'].replace('1 T','1000')"
   ]
  },
  {
   "cell_type": "code",
   "execution_count": 906,
   "id": "34312c0d-06b8-4f18-8026-0e76bec44fd6",
   "metadata": {},
   "outputs": [],
   "source": [
    "data['SHDSize'] = data['SHDSize'].replace('1 T','1000')"
   ]
  },
  {
   "cell_type": "code",
   "execution_count": 907,
   "id": "98c87fda-e54a-4f0e-bdd4-f0a5bc19f958",
   "metadata": {},
   "outputs": [],
   "source": [
    "data['GPUType'] = data['GPUType'].replace('Inner','50')"
   ]
  },
  {
   "cell_type": "code",
   "execution_count": 908,
   "id": "a1610671-e147-42d0-b0d1-09b0c2b80a6a",
   "metadata": {},
   "outputs": [],
   "source": [
    "data['ScReso'] = data['ScReso'].replace('FHD',1)\n",
    "data['ScReso'] = data['ScReso'].replace('HD',0.5)"
   ]
  },
  {
   "cell_type": "code",
   "execution_count": 909,
   "id": "0ff8cf0d-65f1-4efe-9941-eb41fab22c76",
   "metadata": {},
   "outputs": [],
   "source": [
    "#data"
   ]
  },
  {
   "cell_type": "code",
   "execution_count": 910,
   "id": "b14c36c4-4c3e-4384-a618-f32a72333980",
   "metadata": {},
   "outputs": [],
   "source": [
    "#data"
   ]
  },
  {
   "cell_type": "code",
   "execution_count": 911,
   "id": "b37c87ad-c44f-40cc-be37-d8c810e8e144",
   "metadata": {},
   "outputs": [],
   "source": [
    "# Split the GPU Type column into two columns: GPU Type and VRAM Size\n",
    "data['GPUType'] = data['GPUType'].str.strip()\n",
    "split_gpu = data['GPUType'].str.split(' ', n=1, expand=True)\n",
    "data['GPUType'] = split_gpu[0]"
   ]
  },
  {
   "cell_type": "code",
   "execution_count": 912,
   "id": "dafb2b7d-2366-4504-b421-70cd3ccb68b9",
   "metadata": {},
   "outputs": [],
   "source": [
    "# Extract the numeric part and convert to numeric, replacing '0' with NaN\n",
    "data['GPUType'] = pd.to_numeric(data['GPUType'].str.extract(r'(\\d+)')[0], errors='coerce')"
   ]
  },
  {
   "cell_type": "code",
   "execution_count": 914,
   "id": "6e73615b-7d2c-4aea-85d6-39e01ee4fa8b",
   "metadata": {},
   "outputs": [
    {
     "name": "stderr",
     "output_type": "stream",
     "text": [
      "C:\\Users\\USER\\AppData\\Local\\Temp\\ipykernel_7572\\8400520.py:16: FutureWarning: DataFrame.applymap has been deprecated. Use DataFrame.map instead.\n",
      "  data[columns_to_convert] = data[columns_to_convert].applymap(clean_and_convert_to_float)\n"
     ]
    }
   ],
   "source": [
    "import re\n",
    "\n",
    "# Define a function to clean and convert a cell value to float\n",
    "def clean_and_convert_to_float(value):\n",
    "    # Remove non-numeric characters and convert to float\n",
    "    numeric_part = re.sub(r'[^\\d.]', '', str(value))\n",
    "    try:\n",
    "        return float(numeric_part)\n",
    "    except ValueError:\n",
    "        return value\n",
    "\n",
    "# List of columns to convert\n",
    "columns_to_convert = ['FHDType','FHDSize','SHDType','SHDSize','BatLife', 'ScSize','ScReso','GPUType']  # Add more columns as needed\n",
    "\n",
    "# Apply the clean_and_convert_to_float function to the selected columns\n",
    "data[columns_to_convert] = data[columns_to_convert].applymap(clean_and_convert_to_float)"
   ]
  },
  {
   "cell_type": "code",
   "execution_count": 915,
   "id": "78d2de35-2704-48e5-a1a0-b73a76d20d3c",
   "metadata": {},
   "outputs": [],
   "source": [
    "columns_to_encoder = ['LaptopState']\n",
    "one_hot_encoded = pd.get_dummies(data[columns_to_encoder],prefix = '', prefix_sep='_',)\n",
    "data = pd.concat([data,one_hot_encoded],axis=1)\n",
    "data.drop(columns=columns_to_encoder,inplace=True)\n",
    "data = data.astype(float)"
   ]
  },
  {
   "cell_type": "code",
   "execution_count": 916,
   "id": "efce0b5d-99ff-498e-8a45-75991e831422",
   "metadata": {},
   "outputs": [],
   "source": [
    "columns = data.columns.tolist()"
   ]
  },
  {
   "cell_type": "code",
   "execution_count": 917,
   "id": "0c20e91b-423b-4725-8597-73120c806d5a",
   "metadata": {},
   "outputs": [],
   "source": [
    "newColumns = columns[0:11] + columns[12:] + [columns[11]]"
   ]
  },
  {
   "cell_type": "code",
   "execution_count": 918,
   "id": "37ed6119-e65e-49c4-86fb-cdc86c5e2653",
   "metadata": {},
   "outputs": [],
   "source": [
    "data = data[newColumns]"
   ]
  },
  {
   "cell_type": "code",
   "execution_count": 919,
   "id": "8feae780-75b7-4eb0-8224-f77170132931",
   "metadata": {},
   "outputs": [
    {
     "data": {
      "text/plain": [
       "Index(['Core_i', 'Gen', 'FHDType', 'FHDSize', 'SHDType', 'SHDSize', 'RAMSize',\n",
       "       'BatLife', 'ScSize', 'ScReso', 'GPUType', '_New', '_ObenBox', '_Old',\n",
       "       'Price'],\n",
       "      dtype='object')"
      ]
     },
     "execution_count": 919,
     "metadata": {},
     "output_type": "execute_result"
    }
   ],
   "source": [
    "data.columns"
   ]
  },
  {
   "cell_type": "code",
   "execution_count": 920,
   "id": "a226109c-d08b-4f0a-bfec-88f1a366775b",
   "metadata": {},
   "outputs": [],
   "source": [
    "data.to_excel('data_set_clined.xlsx')"
   ]
  },
  {
   "cell_type": "code",
   "execution_count": null,
   "id": "57fac820-13b5-46af-8b0d-2a68d5783227",
   "metadata": {},
   "outputs": [],
   "source": []
  },
  {
   "cell_type": "code",
   "execution_count": null,
   "id": "cb612516-5cf7-4862-8d10-0e45cd598772",
   "metadata": {},
   "outputs": [],
   "source": []
  }
 ],
 "metadata": {
  "kernelspec": {
   "display_name": "Python 3 (ipykernel)",
   "language": "python",
   "name": "python3"
  },
  "language_info": {
   "codemirror_mode": {
    "name": "ipython",
    "version": 3
   },
   "file_extension": ".py",
   "mimetype": "text/x-python",
   "name": "python",
   "nbconvert_exporter": "python",
   "pygments_lexer": "ipython3",
   "version": "3.11.5"
  }
 },
 "nbformat": 4,
 "nbformat_minor": 5
}
