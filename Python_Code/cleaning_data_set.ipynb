{
 "cells": [
  {
   "cell_type": "code",
   "execution_count": 2,
   "id": "e1429fa4-5bcc-45f4-becb-d09911888a7d",
   "metadata": {},
   "outputs": [],
   "source": [
    "# import pandas library\n",
    "import pandas as pd "
   ]
  },
  {
   "cell_type": "code",
   "execution_count": 3,
   "id": "24c3cad7-4738-49cc-9977-137dbe9630b9",
   "metadata": {},
   "outputs": [],
   "source": [
    "# Read the data set excel file \n",
    "data = pd.read_excel('data_set_befor_clining.xlsx')"
   ]
  },
  {
   "cell_type": "code",
   "execution_count": 4,
   "id": "1538ca8e-f1eb-4bab-aa8b-758dfdedcc9f",
   "metadata": {},
   "outputs": [],
   "source": [
    "#data.columns\n"
   ]
  },
  {
   "cell_type": "code",
   "execution_count": 5,
   "id": "8028e3cc-1060-4bfc-811b-7ea0de505bec",
   "metadata": {},
   "outputs": [],
   "source": [
    "new_column_names = {\n",
    "    'طابع زمني': 'Timestamp',\n",
    "    'نوع الحاسب ': 'ComputerType',\n",
    "    'COR I ': 'Core_i',\n",
    "    'الجيل ': 'Gen',\n",
    "    'نوع الهارد الاول': 'FHDType',\n",
    "    'حجم الهارد الاول': 'FHDSize',\n",
    "    'نوع الهارد الثاني إن وجد ': 'SHDType',\n",
    "    'حجم الهارد الثاني إن وجد': 'SHDSize',\n",
    "    'حجم الرام': 'RAMSize',\n",
    "    'فترة عمل البطارية': 'BatLife',\n",
    "    'حجم الشاشة ': 'ScSize',\n",
    "    'نوع الشاشة': 'ScReso',\n",
    "    'نوع كرت الشاشة ': 'GPUType',\n",
    "    'حالة الابتوب': 'LaptopState',\n",
    "    'السعر بالدولار ': 'Price',\n",
    "    'الاسم ': 'Name'\n",
    "}\n",
    "\n",
    "data.rename(columns=new_column_names, inplace=True)"
   ]
  },
  {
   "cell_type": "code",
   "execution_count": 6,
   "id": "7d553d56-1da0-49de-8448-27eb81fa8fa7",
   "metadata": {},
   "outputs": [],
   "source": [
    "#data.columns"
   ]
  },
  {
   "cell_type": "code",
   "execution_count": 7,
   "id": "f5fc1b38-a98c-4c22-847b-fc91ac46c8ea",
   "metadata": {},
   "outputs": [],
   "source": [
    "data.drop(columns=['Timestamp','ComputerType','Name','Unnamed: 16', 'Unnamed: 17',\n",
    "       'Unnamed: 18'],inplace=True)"
   ]
  },
  {
   "cell_type": "code",
   "execution_count": 8,
   "id": "6f01ff27-3680-4866-b526-8c1b684be6e2",
   "metadata": {},
   "outputs": [],
   "source": [
    "#data"
   ]
  },
  {
   "cell_type": "code",
   "execution_count": 9,
   "id": "722d95ff-d6bd-4cae-bdf2-9fecabf8f61d",
   "metadata": {},
   "outputs": [],
   "source": [
    "data['FHDType'] = data['FHDType'].replace('HDD',0.5)\n",
    "data['FHDType'] = data['FHDType'].replace('SSD',1)"
   ]
  },
  {
   "cell_type": "code",
   "execution_count": 10,
   "id": "39b60fc5-61f8-4104-b3e1-56a74aa3aa39",
   "metadata": {},
   "outputs": [],
   "source": [
    "data['SHDType'] = data['SHDType'].replace('لا يوجد','none')\n",
    "data['SHDType'] = data['SHDType'].replace('none',0)\n",
    "data['SHDType'] = data['SHDType'].replace('HDD',0.5)\n",
    "data['SHDType'] = data['SHDType'].replace('SSD',1)"
   ]
  },
  {
   "cell_type": "code",
   "execution_count": 11,
   "id": "29b64aaf-0700-4550-847f-55a319543779",
   "metadata": {},
   "outputs": [],
   "source": [
    "data['SHDSize'] = data['SHDSize'].replace('لا يوجد','none')\n",
    "data['SHDSize'] = data['SHDSize'].replace('none',0)"
   ]
  },
  {
   "cell_type": "code",
   "execution_count": 12,
   "id": "7851ba0c-cd9b-4e3e-9a78-907cb799ea50",
   "metadata": {},
   "outputs": [],
   "source": [
    "relaced_values = {'اوبن بوكس':'ObenBox','جديد':'New','مستعمل':'Old'}\n",
    "data['LaptopState'] = data['LaptopState'].replace(relaced_values)"
   ]
  },
  {
   "cell_type": "code",
   "execution_count": 13,
   "id": "d35d3055-2bc3-49c1-aa5d-522ccf138bdc",
   "metadata": {},
   "outputs": [],
   "source": [
    "data['GPUType'] = data['GPUType'].replace('مدمج','Inner')"
   ]
  },
  {
   "cell_type": "code",
   "execution_count": 14,
   "id": "5d3f3262-9b0c-4301-b1e2-6db62399c182",
   "metadata": {},
   "outputs": [],
   "source": [
    "data['FHDSize'] = data['FHDSize'].replace('1 T','1000')"
   ]
  },
  {
   "cell_type": "code",
   "execution_count": 15,
   "id": "34312c0d-06b8-4f18-8026-0e76bec44fd6",
   "metadata": {},
   "outputs": [],
   "source": [
    "data['SHDSize'] = data['SHDSize'].replace('1 T','1000')"
   ]
  },
  {
   "cell_type": "code",
   "execution_count": 16,
   "id": "98c87fda-e54a-4f0e-bdd4-f0a5bc19f958",
   "metadata": {},
   "outputs": [],
   "source": [
    "data['GPUType'] = data['GPUType'].replace('Inner','50')"
   ]
  },
  {
   "cell_type": "code",
   "execution_count": 17,
   "id": "a1610671-e147-42d0-b0d1-09b0c2b80a6a",
   "metadata": {},
   "outputs": [],
   "source": [
    "data['ScReso'] = data['ScReso'].replace('FHD',1)\n",
    "data['ScReso'] = data['ScReso'].replace('HD',0.5)"
   ]
  },
  {
   "cell_type": "code",
   "execution_count": 18,
   "id": "0ff8cf0d-65f1-4efe-9941-eb41fab22c76",
   "metadata": {},
   "outputs": [],
   "source": [
    "#data"
   ]
  },
  {
   "cell_type": "code",
   "execution_count": 19,
   "id": "b14c36c4-4c3e-4384-a618-f32a72333980",
   "metadata": {},
   "outputs": [],
   "source": [
    "#data"
   ]
  },
  {
   "cell_type": "code",
   "execution_count": 20,
   "id": "b37c87ad-c44f-40cc-be37-d8c810e8e144",
   "metadata": {},
   "outputs": [],
   "source": [
    "# Split the GPU Type column into two columns: GPU Type and VRAM Size\n",
    "data['GPUType'] = data['GPUType'].str.strip()\n",
    "split_gpu = data['GPUType'].str.split(' ', n=1, expand=True)\n",
    "data['GPUType'] = split_gpu[0]"
   ]
  },
  {
   "cell_type": "code",
   "execution_count": 21,
   "id": "dafb2b7d-2366-4504-b421-70cd3ccb68b9",
   "metadata": {},
   "outputs": [],
   "source": [
    "# Extract the numeric part and convert to numeric, replacing '0' with NaN\n",
    "data['GPUType'] = pd.to_numeric(data['GPUType'].str.extract(r'(\\d+)')[0], errors='coerce')"
   ]
  },
  {
   "cell_type": "code",
   "execution_count": 22,
   "id": "6e73615b-7d2c-4aea-85d6-39e01ee4fa8b",
   "metadata": {},
   "outputs": [
    {
     "name": "stderr",
     "output_type": "stream",
     "text": [
      "C:\\Users\\USER\\AppData\\Local\\Temp\\ipykernel_15076\\8400520.py:16: FutureWarning: DataFrame.applymap has been deprecated. Use DataFrame.map instead.\n",
      "  data[columns_to_convert] = data[columns_to_convert].applymap(clean_and_convert_to_float)\n"
     ]
    }
   ],
   "source": [
    "import re\n",
    "\n",
    "# Define a function to clean and convert a cell value to float\n",
    "def clean_and_convert_to_float(value):\n",
    "    # Remove non-numeric characters and convert to float\n",
    "    numeric_part = re.sub(r'[^\\d.]', '', str(value))\n",
    "    try:\n",
    "        return float(numeric_part)\n",
    "    except ValueError:\n",
    "        return value\n",
    "\n",
    "# List of columns to convert\n",
    "columns_to_convert = ['FHDType','FHDSize','SHDType','SHDSize','BatLife', 'ScSize','ScReso','GPUType']  # Add more columns as needed\n",
    "\n",
    "# Apply the clean_and_convert_to_float function to the selected columns\n",
    "data[columns_to_convert] = data[columns_to_convert].applymap(clean_and_convert_to_float)"
   ]
  },
  {
   "cell_type": "code",
   "execution_count": 23,
   "id": "78d2de35-2704-48e5-a1a0-b73a76d20d3c",
   "metadata": {},
   "outputs": [],
   "source": [
    "columns_to_encoder = ['LaptopState']\n",
    "one_hot_encoded = pd.get_dummies(data[columns_to_encoder],prefix = '', prefix_sep='_',)\n",
    "data = pd.concat([data,one_hot_encoded],axis=1)\n",
    "data.drop(columns=columns_to_encoder,inplace=True)\n",
    "data = data.astype(float)"
   ]
  },
  {
   "cell_type": "code",
   "execution_count": 24,
   "id": "5405ad91-df4d-47a8-af33-05ebaebcd22d",
   "metadata": {},
   "outputs": [
    {
     "data": {
      "text/plain": [
       "Index(['Core_i', 'Gen', 'FHDType', 'FHDSize', 'SHDType', 'SHDSize', 'RAMSize',\n",
       "       'BatLife', 'ScSize', 'ScReso', 'GPUType', 'Price', '_New', '_ObenBox',\n",
       "       '_Old'],\n",
       "      dtype='object')"
      ]
     },
     "execution_count": 24,
     "metadata": {},
     "output_type": "execute_result"
    }
   ],
   "source": [
    "data.columns"
   ]
  },
  {
   "cell_type": "code",
   "execution_count": 25,
   "id": "efce0b5d-99ff-498e-8a45-75991e831422",
   "metadata": {},
   "outputs": [],
   "source": [
    "columns = data.columns.tolist()"
   ]
  },
  {
   "cell_type": "code",
   "execution_count": 26,
   "id": "0c20e91b-423b-4725-8597-73120c806d5a",
   "metadata": {},
   "outputs": [],
   "source": []
  },
  {
   "cell_type": "code",
   "execution_count": 27,
   "id": "37ed6119-e65e-49c4-86fb-cdc86c5e2653",
   "metadata": {},
   "outputs": [],
   "source": [
    "data = data[newColumns]"
   ]
  },
  {
   "cell_type": "code",
   "execution_count": 28,
   "id": "8feae780-75b7-4eb0-8224-f77170132931",
   "metadata": {},
   "outputs": [
    {
     "data": {
      "text/plain": [
       "Index(['Core_i', 'Gen', 'FHDType', 'FHDSize', 'SHDType', 'SHDSize', 'RAMSize',\n",
       "       'BatLife', 'ScSize', 'ScReso', 'GPUType', '_New', '_ObenBox', '_Old',\n",
       "       'Price'],\n",
       "      dtype='object')"
      ]
     },
     "execution_count": 28,
     "metadata": {},
     "output_type": "execute_result"
    }
   ],
   "source": [
    "data.columns"
   ]
  },
  {
   "cell_type": "code",
   "execution_count": 29,
   "id": "972f2e81-b6bf-45b8-a627-409defc2c1c7",
   "metadata": {},
   "outputs": [
    {
     "data": {
      "text/html": [
       "<div>\n",
       "<style scoped>\n",
       "    .dataframe tbody tr th:only-of-type {\n",
       "        vertical-align: middle;\n",
       "    }\n",
       "\n",
       "    .dataframe tbody tr th {\n",
       "        vertical-align: top;\n",
       "    }\n",
       "\n",
       "    .dataframe thead th {\n",
       "        text-align: right;\n",
       "    }\n",
       "</style>\n",
       "<table border=\"1\" class=\"dataframe\">\n",
       "  <thead>\n",
       "    <tr style=\"text-align: right;\">\n",
       "      <th></th>\n",
       "      <th>Core_i</th>\n",
       "      <th>Gen</th>\n",
       "      <th>FHDType</th>\n",
       "      <th>FHDSize</th>\n",
       "      <th>SHDType</th>\n",
       "      <th>SHDSize</th>\n",
       "      <th>RAMSize</th>\n",
       "      <th>BatLife</th>\n",
       "      <th>ScSize</th>\n",
       "      <th>ScReso</th>\n",
       "      <th>GPUType</th>\n",
       "      <th>_New</th>\n",
       "      <th>_ObenBox</th>\n",
       "      <th>_Old</th>\n",
       "      <th>Price</th>\n",
       "    </tr>\n",
       "  </thead>\n",
       "  <tbody>\n",
       "    <tr>\n",
       "      <th>0</th>\n",
       "      <td>5.0</td>\n",
       "      <td>11.0</td>\n",
       "      <td>1.0</td>\n",
       "      <td>256.0</td>\n",
       "      <td>0.0</td>\n",
       "      <td>0.0</td>\n",
       "      <td>8.0</td>\n",
       "      <td>4.0</td>\n",
       "      <td>15.6</td>\n",
       "      <td>1.0</td>\n",
       "      <td>3050.0</td>\n",
       "      <td>0.0</td>\n",
       "      <td>1.0</td>\n",
       "      <td>0.0</td>\n",
       "      <td>700.0</td>\n",
       "    </tr>\n",
       "    <tr>\n",
       "      <th>1</th>\n",
       "      <td>7.0</td>\n",
       "      <td>10.0</td>\n",
       "      <td>1.0</td>\n",
       "      <td>512.0</td>\n",
       "      <td>0.0</td>\n",
       "      <td>0.0</td>\n",
       "      <td>4.0</td>\n",
       "      <td>8.0</td>\n",
       "      <td>14.0</td>\n",
       "      <td>1.0</td>\n",
       "      <td>50.0</td>\n",
       "      <td>0.0</td>\n",
       "      <td>1.0</td>\n",
       "      <td>0.0</td>\n",
       "      <td>400.0</td>\n",
       "    </tr>\n",
       "    <tr>\n",
       "      <th>2</th>\n",
       "      <td>3.0</td>\n",
       "      <td>7.0</td>\n",
       "      <td>1.0</td>\n",
       "      <td>256.0</td>\n",
       "      <td>0.0</td>\n",
       "      <td>0.0</td>\n",
       "      <td>4.0</td>\n",
       "      <td>4.0</td>\n",
       "      <td>15.6</td>\n",
       "      <td>0.5</td>\n",
       "      <td>100.0</td>\n",
       "      <td>0.0</td>\n",
       "      <td>0.0</td>\n",
       "      <td>1.0</td>\n",
       "      <td>220.0</td>\n",
       "    </tr>\n",
       "    <tr>\n",
       "      <th>3</th>\n",
       "      <td>5.0</td>\n",
       "      <td>12.0</td>\n",
       "      <td>1.0</td>\n",
       "      <td>512.0</td>\n",
       "      <td>0.0</td>\n",
       "      <td>0.0</td>\n",
       "      <td>16.0</td>\n",
       "      <td>4.0</td>\n",
       "      <td>15.6</td>\n",
       "      <td>1.0</td>\n",
       "      <td>3050.0</td>\n",
       "      <td>0.0</td>\n",
       "      <td>0.0</td>\n",
       "      <td>1.0</td>\n",
       "      <td>700.0</td>\n",
       "    </tr>\n",
       "    <tr>\n",
       "      <th>4</th>\n",
       "      <td>7.0</td>\n",
       "      <td>11.0</td>\n",
       "      <td>1.0</td>\n",
       "      <td>1000.0</td>\n",
       "      <td>0.0</td>\n",
       "      <td>0.0</td>\n",
       "      <td>16.0</td>\n",
       "      <td>4.0</td>\n",
       "      <td>15.6</td>\n",
       "      <td>1.0</td>\n",
       "      <td>3070.0</td>\n",
       "      <td>0.0</td>\n",
       "      <td>0.0</td>\n",
       "      <td>1.0</td>\n",
       "      <td>950.0</td>\n",
       "    </tr>\n",
       "    <tr>\n",
       "      <th>...</th>\n",
       "      <td>...</td>\n",
       "      <td>...</td>\n",
       "      <td>...</td>\n",
       "      <td>...</td>\n",
       "      <td>...</td>\n",
       "      <td>...</td>\n",
       "      <td>...</td>\n",
       "      <td>...</td>\n",
       "      <td>...</td>\n",
       "      <td>...</td>\n",
       "      <td>...</td>\n",
       "      <td>...</td>\n",
       "      <td>...</td>\n",
       "      <td>...</td>\n",
       "      <td>...</td>\n",
       "    </tr>\n",
       "    <tr>\n",
       "      <th>160</th>\n",
       "      <td>7.0</td>\n",
       "      <td>8.0</td>\n",
       "      <td>1.0</td>\n",
       "      <td>256.0</td>\n",
       "      <td>0.5</td>\n",
       "      <td>1000.0</td>\n",
       "      <td>16.0</td>\n",
       "      <td>3.0</td>\n",
       "      <td>15.6</td>\n",
       "      <td>1.0</td>\n",
       "      <td>1060.0</td>\n",
       "      <td>0.0</td>\n",
       "      <td>0.0</td>\n",
       "      <td>1.0</td>\n",
       "      <td>675.0</td>\n",
       "    </tr>\n",
       "    <tr>\n",
       "      <th>161</th>\n",
       "      <td>5.0</td>\n",
       "      <td>8.0</td>\n",
       "      <td>1.0</td>\n",
       "      <td>240.0</td>\n",
       "      <td>0.5</td>\n",
       "      <td>512.0</td>\n",
       "      <td>4.0</td>\n",
       "      <td>3.0</td>\n",
       "      <td>15.6</td>\n",
       "      <td>1.0</td>\n",
       "      <td>940.0</td>\n",
       "      <td>0.0</td>\n",
       "      <td>0.0</td>\n",
       "      <td>1.0</td>\n",
       "      <td>500.0</td>\n",
       "    </tr>\n",
       "    <tr>\n",
       "      <th>162</th>\n",
       "      <td>3.0</td>\n",
       "      <td>7.0</td>\n",
       "      <td>1.0</td>\n",
       "      <td>256.0</td>\n",
       "      <td>0.0</td>\n",
       "      <td>0.0</td>\n",
       "      <td>4.0</td>\n",
       "      <td>8.0</td>\n",
       "      <td>15.6</td>\n",
       "      <td>1.0</td>\n",
       "      <td>50.0</td>\n",
       "      <td>1.0</td>\n",
       "      <td>0.0</td>\n",
       "      <td>0.0</td>\n",
       "      <td>370.0</td>\n",
       "    </tr>\n",
       "    <tr>\n",
       "      <th>163</th>\n",
       "      <td>3.0</td>\n",
       "      <td>6.0</td>\n",
       "      <td>0.5</td>\n",
       "      <td>256.0</td>\n",
       "      <td>0.0</td>\n",
       "      <td>0.0</td>\n",
       "      <td>4.0</td>\n",
       "      <td>4.0</td>\n",
       "      <td>15.6</td>\n",
       "      <td>1.0</td>\n",
       "      <td>330.0</td>\n",
       "      <td>0.0</td>\n",
       "      <td>0.0</td>\n",
       "      <td>1.0</td>\n",
       "      <td>300.0</td>\n",
       "    </tr>\n",
       "    <tr>\n",
       "      <th>164</th>\n",
       "      <td>5.0</td>\n",
       "      <td>11.0</td>\n",
       "      <td>1.0</td>\n",
       "      <td>256.0</td>\n",
       "      <td>0.0</td>\n",
       "      <td>0.0</td>\n",
       "      <td>8.0</td>\n",
       "      <td>8.0</td>\n",
       "      <td>14.0</td>\n",
       "      <td>1.0</td>\n",
       "      <td>50.0</td>\n",
       "      <td>0.0</td>\n",
       "      <td>0.0</td>\n",
       "      <td>1.0</td>\n",
       "      <td>500.0</td>\n",
       "    </tr>\n",
       "  </tbody>\n",
       "</table>\n",
       "<p>165 rows × 15 columns</p>\n",
       "</div>"
      ],
      "text/plain": [
       "     Core_i   Gen  FHDType  FHDSize  SHDType  SHDSize  RAMSize  BatLife  \\\n",
       "0       5.0  11.0      1.0    256.0      0.0      0.0      8.0      4.0   \n",
       "1       7.0  10.0      1.0    512.0      0.0      0.0      4.0      8.0   \n",
       "2       3.0   7.0      1.0    256.0      0.0      0.0      4.0      4.0   \n",
       "3       5.0  12.0      1.0    512.0      0.0      0.0     16.0      4.0   \n",
       "4       7.0  11.0      1.0   1000.0      0.0      0.0     16.0      4.0   \n",
       "..      ...   ...      ...      ...      ...      ...      ...      ...   \n",
       "160     7.0   8.0      1.0    256.0      0.5   1000.0     16.0      3.0   \n",
       "161     5.0   8.0      1.0    240.0      0.5    512.0      4.0      3.0   \n",
       "162     3.0   7.0      1.0    256.0      0.0      0.0      4.0      8.0   \n",
       "163     3.0   6.0      0.5    256.0      0.0      0.0      4.0      4.0   \n",
       "164     5.0  11.0      1.0    256.0      0.0      0.0      8.0      8.0   \n",
       "\n",
       "     ScSize  ScReso  GPUType  _New  _ObenBox  _Old  Price  \n",
       "0      15.6     1.0   3050.0   0.0       1.0   0.0  700.0  \n",
       "1      14.0     1.0     50.0   0.0       1.0   0.0  400.0  \n",
       "2      15.6     0.5    100.0   0.0       0.0   1.0  220.0  \n",
       "3      15.6     1.0   3050.0   0.0       0.0   1.0  700.0  \n",
       "4      15.6     1.0   3070.0   0.0       0.0   1.0  950.0  \n",
       "..      ...     ...      ...   ...       ...   ...    ...  \n",
       "160    15.6     1.0   1060.0   0.0       0.0   1.0  675.0  \n",
       "161    15.6     1.0    940.0   0.0       0.0   1.0  500.0  \n",
       "162    15.6     1.0     50.0   1.0       0.0   0.0  370.0  \n",
       "163    15.6     1.0    330.0   0.0       0.0   1.0  300.0  \n",
       "164    14.0     1.0     50.0   0.0       0.0   1.0  500.0  \n",
       "\n",
       "[165 rows x 15 columns]"
      ]
     },
     "execution_count": 29,
     "metadata": {},
     "output_type": "execute_result"
    }
   ],
   "source": [
    "data"
   ]
  },
  {
   "cell_type": "code",
   "execution_count": 920,
   "id": "a226109c-d08b-4f0a-bfec-88f1a366775b",
   "metadata": {},
   "outputs": [],
   "source": [
    "data.to_excel('data_set_clined.xlsx')"
   ]
  },
  {
   "cell_type": "code",
   "execution_count": 1,
   "id": "57fac820-13b5-46af-8b0d-2a68d5783227",
   "metadata": {},
   "outputs": [
    {
     "ename": "NameError",
     "evalue": "name 'data' is not defined",
     "output_type": "error",
     "traceback": [
      "\u001b[1;31m---------------------------------------------------------------------------\u001b[0m",
      "\u001b[1;31mNameError\u001b[0m                                 Traceback (most recent call last)",
      "Cell \u001b[1;32mIn[1], line 1\u001b[0m\n\u001b[1;32m----> 1\u001b[0m \u001b[43mdata\u001b[49m\n",
      "\u001b[1;31mNameError\u001b[0m: name 'data' is not defined"
     ]
    }
   ],
   "source": []
  },
  {
   "cell_type": "code",
   "execution_count": null,
   "id": "cb612516-5cf7-4862-8d10-0e45cd598772",
   "metadata": {},
   "outputs": [],
   "source": []
  }
 ],
 "metadata": {
  "kernelspec": {
   "display_name": "Python 3 (ipykernel)",
   "language": "python",
   "name": "python3"
  },
  "language_info": {
   "codemirror_mode": {
    "name": "ipython",
    "version": 3
   },
   "file_extension": ".py",
   "mimetype": "text/x-python",
   "name": "python",
   "nbconvert_exporter": "python",
   "pygments_lexer": "ipython3",
   "version": "3.11.5"
  }
 },
 "nbformat": 4,
 "nbformat_minor": 5
}
